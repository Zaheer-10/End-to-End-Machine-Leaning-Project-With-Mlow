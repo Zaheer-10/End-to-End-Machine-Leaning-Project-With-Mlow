{
 "cells": [
  {
   "cell_type": "markdown",
   "metadata": {},
   "source": [
    "# MODEL EVALUATION"
   ]
  },
  {
   "cell_type": "code",
   "execution_count": null,
   "metadata": {},
   "outputs": [
    {
     "data": {
      "text/plain": [
       "\"c:\\\\Users\\\\soulo\\\\MACHINE_LEARNING_UNIVERSE\\\\PROJECT'S\\\\End-to-End-Machine-Leaning-Project-With-Mlow\\\\research\""
      ]
     },
     "execution_count": 1,
     "metadata": {},
     "output_type": "execute_result"
    }
   ],
   "source": [
    "import os \n",
    "%pwd"
   ]
  },
  {
   "cell_type": "code",
   "execution_count": 3,
   "metadata": {},
   "outputs": [
    {
     "data": {
      "text/plain": [
       "\"c:\\\\Users\\\\soulo\\\\MACHINE_LEARNING_UNIVERSE\\\\PROJECT'S\\\\End-to-End-Machine-Leaning-Project-With-Mlow\""
      ]
     },
     "execution_count": 3,
     "metadata": {},
     "output_type": "execute_result"
    }
   ],
   "source": [
    "import os\n",
    "os.chdir('../')\n",
    "%pwd"
   ]
  },
  {
   "cell_type": "markdown",
   "metadata": {},
   "source": [
    "## DagsHub setup\n",
    "\n",
    "1. Open repo in dagshub\n",
    "2. Open experiment\n",
    "\n",
    "`MLFLOW_TRACKING_URI=https://dagshub.com/Zaheer-10/End-to-End-Machine-Leaning-Project-With-Mlow.mlflow \\\n",
    "MLFLOW_TRACKING_USERNAME=Zaheer-10 \\\n",
    "MLFLOW_TRACKING_PASSWORD=c73afb9df2eb3858963a808071f72dce3e66f85a \\\n",
    "python script.py`\n",
    "\n",
    "3. RUN this to export as env variables\n",
    "\n",
    "```bash \n",
    "\n",
    "export MLFLOW_TRACKING_URI=https://dagshub.com/Zaheer-10/End-to-End-Machine-Leaning-Project-With-Mlow.mlflow\n",
    "\n",
    "export MLFLOW_TRACKING_USERNAME=Zaheer-10\n",
    "\n",
    "export MLFLOW_TRACKING_PASSWORD=c73afb9df2eb3858963a808071f72dce3e66f85a\n",
    "\n",
    "\n",
    "```\n",
    "`NOTE : RUN THESE CMD IN GITBASH`"
   ]
  },
  {
   "cell_type": "code",
   "execution_count": 4,
   "metadata": {},
   "outputs": [],
   "source": [
    "os.environ[\"MLFLOW_TRACKING_URI\"]= \"https://dagshub.com/Zaheer-10/End-to-End-Machine-Leaning-Project-With-Mlow.mlflow\"\n",
    "os.environ['MLFLOW_TRACKING_USERNAME'] = 'Zaheer-10'\n",
    "os.environ['MLFLOW_TRACKING_PASSWORD'] = 'c73afb9df2eb3858963a808071f72dce3e66f85a'"
   ]
  },
  {
   "cell_type": "code",
   "execution_count": null,
   "metadata": {},
   "outputs": [],
   "source": [
    "#1 update the config.yaml"
   ]
  },
  {
   "cell_type": "markdown",
   "metadata": {},
   "source": [
    "## Entity"
   ]
  },
  {
   "cell_type": "code",
   "execution_count": 5,
   "metadata": {},
   "outputs": [],
   "source": [
    "from dataclasses import dataclass\n",
    "from pathlib import Path\n",
    "\n",
    "@dataclass(frozen=True)\n",
    "class ModelEvaluationConfig:\n",
    "    root_dir: Path\n",
    "    test_data_path: Path\n",
    "    model_path: Path\n",
    "    all_params: dict\n",
    "    metric_file_name: Path\n",
    "    target_column: str\n",
    "    mlflow_uri: str"
   ]
  },
  {
   "cell_type": "markdown",
   "metadata": {},
   "source": [
    "# Config Manager"
   ]
  },
  {
   "cell_type": "code",
   "execution_count": 6,
   "metadata": {},
   "outputs": [],
   "source": [
    "from mlproject.constants import *\n",
    "from mlproject.utils.common import read_yaml, create_directories"
   ]
  },
  {
   "cell_type": "code",
   "execution_count": 7,
   "metadata": {},
   "outputs": [],
   "source": [
    "class ConfigurationManager:\n",
    "    def __init__(self,config_filepath = CONFIG_FILE_PATH, parmas_filepath = PARAMS_FILE_PATH,schema_filepath = SCHEMA_FILE_PATH ):\n",
    "        self.config = read_yaml(config_filepath)\n",
    "        self.params = read_yaml(parmas_filepath)\n",
    "        self.schema = read_yaml(schema_filepath)\n",
    "        create_directories([self.config.artifacts_root])\n",
    "    \n",
    "    def get_model_evaluation_config(self):\n",
    "        config = self.config.model_evaluation\n",
    "        params = self.params.ElasticNet\n",
    "        schema = self.schema.TARGET_COLUMN\n",
    "        \n",
    "        create_directories([config.root_dir])\n",
    "        \n",
    "        model_evaluation_config = ModelEvaluationConfig(\n",
    "            root_dir=config.root_dir,\n",
    "            test_data_path=config.test_data_path,\n",
    "            model_path=config.model_path,\n",
    "            all_params=params,\n",
    "            metric_file_name=config.metric_file_name,\n",
    "            target_column=schema.name,\n",
    "            mlflow_uri='https://dagshub.com/Zaheer-10/End-to-End-Machine-Leaning-Project-With-Mlow.mlflow'\n",
    "        )\n",
    "        \n",
    "        return model_evaluation_config"
   ]
  },
  {
   "cell_type": "markdown",
   "metadata": {},
   "source": [
    "## Components\n",
    "\n"
   ]
  },
  {
   "cell_type": "code",
   "execution_count": 8,
   "metadata": {},
   "outputs": [],
   "source": [
    "import os\n",
    "import joblib\n",
    "import mlflow\n",
    "import mlflow.sklearn\n",
    "import numpy as np\n",
    "import pandas as pd\n",
    "from urllib.parse import urlparse\n",
    "from sklearn.metrics import mean_squared_error, mean_absolute_error , r2_score"
   ]
  },
  {
   "cell_type": "code",
   "execution_count": 9,
   "metadata": {},
   "outputs": [],
   "source": [
    "from mlproject.utils.common import save_json\n",
    "\n",
    "class ModelEvaluation:\n",
    "    def __init__(self, config: ModelEvaluationConfig):\n",
    "        self.config = config\n",
    "        \n",
    "    def eval_metrics(self , actual , pred):\n",
    "        rmse= np.sqrt(mean_squared_error(actual , pred))\n",
    "        mae = mean_squared_error(actual , pred)\n",
    "        r2 = r2_score(actual , pred)\n",
    "        return rmse,mae,r2    \n",
    "    \n",
    "    # Mlflow tracking\n",
    "    \n",
    "    def log_into_mlflow(self):\n",
    "        \n",
    "        test_data = pd.read_csv(self.config.test_data_path)\n",
    "        model = joblib.load(self.config.model_path)\n",
    "        \n",
    "        X_test = test_data.drop([self.config.target_column] , axis=1)\n",
    "        Y_test = test_data[[self.config.target_column]] \n",
    "        \n",
    "        mlflow.set_registry_uri(self.config.mlflow_uri)\n",
    "        tracking_url_type_score = urlparse(mlflow.get_tracking_uri()).scheme\n",
    "        \n",
    "        with mlflow.start_run():\n",
    "            predicted_qualities = model.predict(X_test)\n",
    "            \n",
    "            (rmse , mae , r2_score) = self.eval_metrics(Y_test , predicted_qualities)\n",
    "            \n",
    "            #SAVING METRIC AS  LOCAL\n",
    "            \n",
    "            scores = {'rmse' : rmse , \"mae\" : mae , 'r2':r2_score}\n",
    "            save_json(path=Path(self.config.metric_file_name) , data=scores)\n",
    "            \n",
    "            mlflow.log_params(self.config.all_params)\n",
    "            \n",
    "            mlflow.log_metric('rmse' , rmse)\n",
    "            mlflow.log_metric('R2' , r2_score)\n",
    "            mlflow.log_metric('mae' , mae)\n",
    "            \n",
    "            # Model registry doesn't work with file store\n",
    "            if tracking_url_type_score != 'file' : \n",
    "                # register the model\n",
    "                \n",
    "                # mlflow.sklearn.log_model(model, 'model' , registered_model_name='ElasticNetModel')\n",
    "                mlflow.sklearn.log_model(model, \"model\", registered_model_name=\"ElasticnetModel\")\n",
    "            else:\n",
    "                mlflow.sklearn.load_model(model , 'model')"
   ]
  },
  {
   "cell_type": "markdown",
   "metadata": {},
   "source": [
    "## Pipeline"
   ]
  },
  {
   "cell_type": "code",
   "execution_count": 10,
   "metadata": {},
   "outputs": [
    {
     "name": "stdout",
     "output_type": "stream",
     "text": [
      "[2023-11-25 21:31:52,633] : INFO : common :  yaml file: config\\config.yaml loaded successfully]\n",
      "[2023-11-25 21:31:52,640] : INFO : common :  yaml file: params.yaml loaded successfully]\n",
      "[2023-11-25 21:31:52,644] : INFO : common :  yaml file: schema.yaml loaded successfully]\n",
      "[2023-11-25 21:31:52,646] : INFO : common :  created directory at: artifacts]\n",
      "[2023-11-25 21:31:52,647] : INFO : common :  created directory at: artifacts/model_evaluation]\n",
      "[2023-11-25 21:31:53,738] : INFO : common :  json file saved at: artifacts\\model_evaluation\\metrics.json]\n"
     ]
    },
    {
     "name": "stderr",
     "output_type": "stream",
     "text": [
      "c:\\Users\\soulo\\anaconda3\\envs\\ML_projects\\lib\\site-packages\\_distutils_hack\\__init__.py:33: UserWarning: Setuptools is replacing distutils.\n",
      "  warnings.warn(\"Setuptools is replacing distutils.\")\n",
      "Successfully registered model 'ElasticnetModel'.\n",
      "2023/11/25 21:32:08 INFO mlflow.tracking._model_registry.client: Waiting up to 300 seconds for model version to finish creation.                     Model name: ElasticnetModel, version 1\n",
      "Created version '1' of model 'ElasticnetModel'.\n"
     ]
    }
   ],
   "source": [
    "try :\n",
    "    config = ConfigurationManager()\n",
    "    model_evaluation_config = config.get_model_evaluation_config()\n",
    "    model_evaluation_config = ModelEvaluation(config=model_evaluation_config)\n",
    "    model_evaluation_config.log_into_mlflow()\n",
    "except Exception as e :\n",
    "    raise e"
   ]
  }
 ],
 "metadata": {
  "kernelspec": {
   "display_name": "ML_projects",
   "language": "python",
   "name": "python3"
  },
  "language_info": {
   "codemirror_mode": {
    "name": "ipython",
    "version": 3
   },
   "file_extension": ".py",
   "mimetype": "text/x-python",
   "name": "python",
   "nbconvert_exporter": "python",
   "pygments_lexer": "ipython3",
   "version": "3.10.0"
  }
 },
 "nbformat": 4,
 "nbformat_minor": 2
}
