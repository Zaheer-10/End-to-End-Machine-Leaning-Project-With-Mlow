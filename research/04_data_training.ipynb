{
 "cells": [
  {
   "cell_type": "markdown",
   "metadata": {},
   "source": [
    "# MODEL TRAINING"
   ]
  },
  {
   "cell_type": "code",
   "execution_count": 1,
   "metadata": {},
   "outputs": [
    {
     "data": {
      "text/plain": [
       "\"c:\\\\Users\\\\soulo\\\\MACHINE_LEARNING_UNIVERSE\\\\PROJECT'S\\\\End-to-End-Machine-Leaning-Project-With-Mlow\\\\research\""
      ]
     },
     "execution_count": 1,
     "metadata": {},
     "output_type": "execute_result"
    }
   ],
   "source": [
    "import os\n",
    "%pwd"
   ]
  },
  {
   "cell_type": "code",
   "execution_count": 2,
   "metadata": {},
   "outputs": [
    {
     "data": {
      "text/plain": [
       "\"c:\\\\Users\\\\soulo\\\\MACHINE_LEARNING_UNIVERSE\\\\PROJECT'S\\\\End-to-End-Machine-Leaning-Project-With-Mlow\""
      ]
     },
     "execution_count": 2,
     "metadata": {},
     "output_type": "execute_result"
    }
   ],
   "source": [
    "os.chdir('../')\n",
    "%pwd"
   ]
  },
  {
   "cell_type": "code",
   "execution_count": null,
   "metadata": {},
   "outputs": [],
   "source": [
    "# 1. config.yaml"
   ]
  },
  {
   "cell_type": "markdown",
   "metadata": {},
   "source": [
    "## Entity"
   ]
  },
  {
   "cell_type": "code",
   "execution_count": 32,
   "metadata": {},
   "outputs": [],
   "source": [
    "from dataclasses import dataclass\n",
    "from pathlib import Path\n",
    "\n",
    "\n",
    "@dataclass(frozen=True)\n",
    "class ModelTrainerConfig:\n",
    "    root_dir: Path\n",
    "    train_data_path: Path\n",
    "    test_data_path: Path\n",
    "    model_name: str\n",
    "    alpha: float\n",
    "    l1_ratio: float\n",
    "    target_column: str"
   ]
  },
  {
   "cell_type": "markdown",
   "metadata": {},
   "source": [
    "## Config Manager"
   ]
  },
  {
   "cell_type": "code",
   "execution_count": 34,
   "metadata": {},
   "outputs": [],
   "source": [
    "from mlproject.constants import *\n",
    "from mlproject.utils.common import create_directories, read_yaml\n",
    "\n",
    "\n",
    "# class ConfigurationManager:\n",
    "    # def __init__(self,config_filepath = CONFIG_FILE_PATH, parmas_filepath = PARAMS_FILE_PATH,schema_filepath = SCHEMA_FILE_PATH ):\n",
    "        # self.config = read_yaml(config_filepath)\n",
    "        # self.params = read_yaml(parmas_filepath)\n",
    "        # self.schema = read_yaml(schema_filepath)\n",
    "        # create_directories([self.config.artifacts_root])\n",
    "        # \n",
    "    # def get_model_trainer_config(self) -> ModelTrainerConfig:\n",
    "        # config = self.config.model_trainer\n",
    "        # params = self.params.ElasticNet\n",
    "        # schema = self.config.TARGET_COLUMN  \n",
    "        # create_directories([config.root_dir])\n",
    "        # \n",
    "        # model_trainer_config=ModelTrainerConfig(\n",
    "            # \n",
    "            # root_dir= config.root_dir,\n",
    "            # train_data_path= config.train_data_path,\n",
    "            # test_data_path= config.test_data_path,\n",
    "            # model_name = config.model_name,\n",
    "            # alpha=params.aplha,\n",
    "            # l1_ratio=params.l1_ratio,\n",
    "            # target_column=schema.name,\n",
    "        # )\n",
    "        # return model_trainer_config\n",
    "    \n",
    "# \n",
    "\n",
    "class ConfigurationManager:\n",
    "    def __init__(\n",
    "        self,\n",
    "        config_filepath = CONFIG_FILE_PATH,\n",
    "        params_filepath = PARAMS_FILE_PATH,\n",
    "        schema_filepath = SCHEMA_FILE_PATH):\n",
    "\n",
    "        self.config = read_yaml(config_filepath)\n",
    "        self.params = read_yaml(params_filepath)\n",
    "        self.schema = read_yaml(schema_filepath)\n",
    "\n",
    "        create_directories([self.config.artifacts_root])\n",
    "\n",
    "\n",
    "    def get_model_trainer_config(self) -> ModelTrainerConfig:\n",
    "        config = self.config.model_trainer\n",
    "        params = self.params.ElasticNet\n",
    "        schema =  self.schema.TARGET_COLUMN\n",
    "\n",
    "        create_directories([config.root_dir])\n",
    "\n",
    "        model_trainer_config = ModelTrainerConfig(\n",
    "            root_dir=config.root_dir,\n",
    "            train_data_path = config.train_data_path,\n",
    "            test_data_path = config.test_data_path,\n",
    "            model_name = config.model_name,\n",
    "            alpha = params.alpha,\n",
    "            l1_ratio = params.l1_ratio,\n",
    "            target_column = schema.name\n",
    "            \n",
    "        )\n",
    "\n",
    "        return model_trainer_config"
   ]
  },
  {
   "cell_type": "markdown",
   "metadata": {},
   "source": [
    "## components"
   ]
  },
  {
   "cell_type": "code",
   "execution_count": 35,
   "metadata": {},
   "outputs": [],
   "source": [
    "import os\n",
    "import joblib\n",
    "import pandas as pd\n",
    "from mlproject import logger\n",
    "from sklearn.linear_model import ElasticNet"
   ]
  },
  {
   "cell_type": "code",
   "execution_count": 36,
   "metadata": {},
   "outputs": [],
   "source": [
    "# class ModelTrainer:\n",
    "#     def __init__(self , config: ModelTrainerConfig):\n",
    "#         self.config = config\n",
    "        \n",
    "#     def train(self):\n",
    "#         train_data = pd.read_csv(self.config.train_data_path)\n",
    "#         test_data = pd.read_csv(self.config.test_data_path)\n",
    "        \n",
    "#         train_x = train_data.drop([self.config.target_column] , axis=1)\n",
    "#         test_x = test_data.drop([self.config.target_column] , axis=1)\n",
    "        \n",
    "#         train_y = train_data([self.config.target_column])\n",
    "#         test_y = test_data([self.config.target_column])\n",
    "        \n",
    "#         lr = ElasticNet(alpha=self.config.alpha , l1_ratio=self.config.l1_ratio , random_state=self.config.random_state)\n",
    "        \n",
    "#         lr.fit(train_x , train_y)\n",
    "        \n",
    "#         joblib.dump(lr , os.path.join(self.config.root_dir , self.config.model_name))"
   ]
  },
  {
   "cell_type": "code",
   "execution_count": 46,
   "metadata": {},
   "outputs": [],
   "source": [
    "class ModelTrainer:\n",
    "    def __init__(self, config: ModelTrainerConfig):\n",
    "        self.config = config\n",
    "\n",
    "    \n",
    "    def train(self):\n",
    "        train_data = pd.read_csv(self.config.train_data_path)\n",
    "        test_data = pd.read_csv(self.config.test_data_path)\n",
    "\n",
    "\n",
    "        train_x = train_data.drop([self.config.target_column], axis=1)\n",
    "        test_x = test_data.drop([self.config.target_column], axis=1)\n",
    "        train_y = train_data[[self.config.target_column]]\n",
    "        test_y = test_data[[self.config.target_column]]\n",
    "\n",
    "\n",
    "        lr = ElasticNet(alpha=self.config.alpha, l1_ratio=self.config.l1_ratio, random_state= 42)\n",
    "        lr.fit(train_x, train_y)\n",
    "\n",
    "        joblib.dump(lr, os.path.join(self.config.root_dir, self.config.model_name))\n",
    "\n"
   ]
  },
  {
   "cell_type": "markdown",
   "metadata": {},
   "source": [
    "## Pipeline"
   ]
  },
  {
   "cell_type": "code",
   "execution_count": 47,
   "metadata": {},
   "outputs": [
    {
     "name": "stdout",
     "output_type": "stream",
     "text": [
      "[2023-11-25 12:37:45,149] : INFO : common :  yaml file: config\\config.yaml loaded successfully]\n",
      "[2023-11-25 12:37:45,152] : INFO : common :  yaml file: params.yaml loaded successfully]\n",
      "[2023-11-25 12:37:45,157] : INFO : common :  yaml file: schema.yaml loaded successfully]\n",
      "[2023-11-25 12:37:45,158] : INFO : common :  created directory at: artifacts]\n",
      "[2023-11-25 12:37:45,159] : INFO : common :  created directory at: artifacts/data_trainer]\n"
     ]
    }
   ],
   "source": [
    "try:\n",
    "    config = ConfigurationManager()\n",
    "    model_trainer_config = config.get_model_trainer_config()\n",
    "    model_trainer_config = ModelTrainer(config=model_trainer_config)\n",
    "    model_trainer_config.train()\n",
    "except Exception as e :\n",
    "    raise e "
   ]
  }
 ],
 "metadata": {
  "kernelspec": {
   "display_name": "ML_projects",
   "language": "python",
   "name": "python3"
  },
  "language_info": {
   "codemirror_mode": {
    "name": "ipython",
    "version": 3
   },
   "file_extension": ".py",
   "mimetype": "text/x-python",
   "name": "python",
   "nbconvert_exporter": "python",
   "pygments_lexer": "ipython3",
   "version": "3.10.0"
  }
 },
 "nbformat": 4,
 "nbformat_minor": 2
}
