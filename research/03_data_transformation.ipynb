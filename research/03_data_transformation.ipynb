{
 "cells": [
  {
   "cell_type": "markdown",
   "metadata": {},
   "source": [
    "# DATA TRANSFORMATION"
   ]
  },
  {
   "cell_type": "code",
   "execution_count": 2,
   "metadata": {},
   "outputs": [
    {
     "data": {
      "text/plain": [
       "\"c:\\\\Users\\\\soulo\\\\MACHINE_LEARNING_UNIVERSE\\\\PROJECT'S\\\\End-to-End-Machine-Leaning-Project-With-Mlow\\\\research\""
      ]
     },
     "execution_count": 2,
     "metadata": {},
     "output_type": "execute_result"
    }
   ],
   "source": [
    "import os \n",
    "\n",
    "%pwd"
   ]
  },
  {
   "cell_type": "code",
   "execution_count": 5,
   "metadata": {},
   "outputs": [],
   "source": [
    "os.chdir('../')\n"
   ]
  },
  {
   "cell_type": "code",
   "execution_count": 6,
   "metadata": {},
   "outputs": [
    {
     "data": {
      "text/plain": [
       "\"c:\\\\Users\\\\soulo\\\\MACHINE_LEARNING_UNIVERSE\\\\PROJECT'S\\\\End-to-End-Machine-Leaning-Project-With-Mlow\""
      ]
     },
     "execution_count": 6,
     "metadata": {},
     "output_type": "execute_result"
    }
   ],
   "source": [
    "%pwd"
   ]
  },
  {
   "cell_type": "code",
   "execution_count": null,
   "metadata": {},
   "outputs": [],
   "source": [
    "#1. update config.yaml\n",
    "# 2. update entity"
   ]
  },
  {
   "cell_type": "markdown",
   "metadata": {},
   "source": [
    "## Update the entity"
   ]
  },
  {
   "cell_type": "code",
   "execution_count": 7,
   "metadata": {},
   "outputs": [],
   "source": [
    "from dataclasses import dataclass\n",
    "from pathlib import Path\n",
    "\n",
    "@dataclass(frozen=True)\n",
    "class DataTransformationConfig:\n",
    "    root_dir: Path\n",
    "    data_path: Path"
   ]
  },
  {
   "cell_type": "markdown",
   "metadata": {},
   "source": [
    "## Update configuration"
   ]
  },
  {
   "cell_type": "code",
   "execution_count": 9,
   "metadata": {},
   "outputs": [],
   "source": [
    "from mlproject.constants import *\n",
    "from mlproject.utils.common import read_yaml, create_directories"
   ]
  },
  {
   "cell_type": "code",
   "execution_count": 10,
   "metadata": {},
   "outputs": [],
   "source": [
    "class ConfigurationManager:\n",
    "    def __init__(self,config_filepath = CONFIG_FILE_PATH, parmas_filepath = PARAMS_FILE_PATH,schema_filepath = SCHEMA_FILE_PATH ):\n",
    "        self.config = read_yaml(config_filepath)\n",
    "        self.params = read_yaml(parmas_filepath)\n",
    "        self.schema = read_yaml(schema_filepath)\n",
    "        create_directories([self.config.artifacts_root])\n",
    "    \n",
    "    def get_data_transformation_config(self):\n",
    "        config = self.config.data_transformation\n",
    "        create_directories([config.root_dir])\n",
    "        \n",
    "        data_transformation_config = DataTransformationConfig(\n",
    "            root_dir=config.root_dir,\n",
    "            data_path=config.data_path,\n",
    "        )\n",
    "        \n",
    "        return data_transformation_config"
   ]
  },
  {
   "cell_type": "markdown",
   "metadata": {},
   "source": [
    "## Update components"
   ]
  },
  {
   "cell_type": "code",
   "execution_count": 12,
   "metadata": {},
   "outputs": [],
   "source": [
    "import os \n",
    "from mlproject import logger\n",
    "from sklearn.model_selection import train_test_split\n",
    "import pandas as pd"
   ]
  },
  {
   "cell_type": "markdown",
   "metadata": {},
   "source": [
    "Note: We can also perform some other data transformation techniques here like pca, normalizing , converting in to numerical"
   ]
  },
  {
   "cell_type": "code",
   "execution_count": 13,
   "metadata": {},
   "outputs": [],
   "source": [
    "class DataTransformation:\n",
    "    def __init__(self , config=DataTransformationConfig):\n",
    "        self.config = config\n",
    "\n",
    "    def train_test_split(self):\n",
    "        data = pd.read_csv(self.config.data_path)\n",
    "        train , test = train_test_split(data ,test_size=0.25, random_state=42)\n",
    "        \n",
    "        train.to_csv(os.path.join(self.config.root_dir,'train.csv') , index=False)\n",
    "        test.to_csv(os.path.join(self.config.root_dir,'test.csv') , index = False)\n",
    "        \n",
    "        logger.info(\"Splitting data into train and test sets\")\n",
    "        logger.info(train.shape)\n",
    "        logger.info(test.shape)\n",
    "        print(f\"train- {train.shape}, Test - { test.shape}\")        "
   ]
  },
  {
   "cell_type": "markdown",
   "metadata": {},
   "source": [
    "## Pipeline"
   ]
  },
  {
   "cell_type": "code",
   "execution_count": 15,
   "metadata": {},
   "outputs": [
    {
     "name": "stdout",
     "output_type": "stream",
     "text": [
      "[2023-11-25 10:54:35,127] : INFO : common :  yaml file: config\\config.yaml loaded successfully]\n",
      "[2023-11-25 10:54:35,139] : INFO : common :  yaml file: params.yaml loaded successfully]\n",
      "[2023-11-25 10:54:35,143] : INFO : common :  yaml file: schema.yaml loaded successfully]\n",
      "[2023-11-25 10:54:35,145] : INFO : common :  created directory at: artifacts]\n",
      "[2023-11-25 10:54:35,147] : INFO : common :  created directory at: artifacts/data_transformation]\n",
      "[2023-11-25 10:54:35,201] : INFO : 3977927169 :  Splitting data into train and test sets]\n",
      "[2023-11-25 10:54:35,202] : INFO : 3977927169 :  (1199, 12)]\n",
      "[2023-11-25 10:54:35,203] : INFO : 3977927169 :  (400, 12)]\n",
      "train- (1199, 12), Test - (400, 12)\n"
     ]
    }
   ],
   "source": [
    "try:\n",
    "    config = ConfigurationManager()\n",
    "    data_transformation_config = config.get_data_transformation_config()\n",
    "    data_transformation = DataTransformation(config=data_transformation_config)\n",
    "    data_transformation.train_test_split()\n",
    "except Exception as e:\n",
    "    raise e"
   ]
  }
 ],
 "metadata": {
  "kernelspec": {
   "display_name": "ML_projects",
   "language": "python",
   "name": "python3"
  },
  "language_info": {
   "codemirror_mode": {
    "name": "ipython",
    "version": 3
   },
   "file_extension": ".py",
   "mimetype": "text/x-python",
   "name": "python",
   "nbconvert_exporter": "python",
   "pygments_lexer": "ipython3",
   "version": "3.10.0"
  }
 },
 "nbformat": 4,
 "nbformat_minor": 2
}
