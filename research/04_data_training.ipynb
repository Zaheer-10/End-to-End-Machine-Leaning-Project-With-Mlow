{
 "cells": [
  {
   "cell_type": "markdown",
   "metadata": {},
   "source": [
    "# MODEL TRAINING"
   ]
  },
  {
   "cell_type": "code",
   "execution_count": 1,
   "metadata": {},
   "outputs": [
    {
     "data": {
      "text/plain": [
       "\"c:\\\\Users\\\\soulo\\\\MACHINE_LEARNING_UNIVERSE\\\\PROJECT'S\\\\End-to-End-Machine-Leaning-Project-With-Mlow\\\\research\""
      ]
     },
     "execution_count": 1,
     "metadata": {},
     "output_type": "execute_result"
    }
   ],
   "source": [
    "import os\n",
    "%pwd"
   ]
  },
  {
   "cell_type": "code",
   "execution_count": 2,
   "metadata": {},
   "outputs": [
    {
     "data": {
      "text/plain": [
       "\"c:\\\\Users\\\\soulo\\\\MACHINE_LEARNING_UNIVERSE\\\\PROJECT'S\\\\End-to-End-Machine-Leaning-Project-With-Mlow\""
      ]
     },
     "execution_count": 2,
     "metadata": {},
     "output_type": "execute_result"
    }
   ],
   "source": [
    "os.chdir('../')\n",
    "%pwd"
   ]
  },
  {
   "cell_type": "code",
   "execution_count": null,
   "metadata": {},
   "outputs": [],
   "source": [
    "# 1. config.yaml"
   ]
  },
  {
   "cell_type": "markdown",
   "metadata": {},
   "source": [
    "## Entity"
   ]
  },
  {
   "cell_type": "code",
   "execution_count": 32,
   "metadata": {},
   "outputs": [],
   "source": [
    "from dataclasses import dataclass\n",
    "from pathlib import Path\n",
    "\n",
    "\n",
    "@dataclass(frozen=True)\n",
    "class ModelTrainerConfig:\n",
    "    root_dir: Path\n",
    "    train_data_path: Path\n",
    "    test_data_path: Path\n",
    "    model_name: str\n",
    "    alpha: float\n",
    "    l1_ratio: float\n",
    "    target_column: str"
   ]
  },
  {
   "cell_type": "markdown",
   "metadata": {},
   "source": [
    "## Config Manager"
   ]
  },
  {
   "cell_type": "code",
   "execution_count": 28,
   "metadata": {},
   "outputs": [],
   "source": [
    "from mlproject.constants import *\n",
    "from mlproject.utils.common import create_directories, read_yaml\n",
    "\n",
    "\n",
    "class ConfigurationManager:\n",
    "    def __init__(self,config_filepath = CONFIG_FILE_PATH, parmas_filepath = PARAMS_FILE_PATH,schema_filepath = SCHEMA_FILE_PATH ):\n",
    "        self.config = read_yaml(config_filepath)\n",
    "        self.params = read_yaml(parmas_filepath)\n",
    "        self.schema = read_yaml(schema_filepath)\n",
    "        create_directories([self.config.artifacts_root])\n",
    "        \n",
    "    def get_model_trainer_config(self) -> ModelTrainerConfig:\n",
    "        config = self.config.model_trainer\n",
    "        params = self.params.ElasticNet\n",
    "        schema = self.config.TARGET_COLUMN  \n",
    "        create_directories([config.root_dir])\n",
    "        \n",
    "        model_trainer_config=ModelTrainerConfig(\n",
    "            \n",
    "            root_dir= config.root_dir,\n",
    "            train_data_path= config.train_data_path,\n",
    "            test_data_path= config.test_data_path,\n",
    "            model_name = config.model_name,\n",
    "            alpha=params.aplha,\n",
    "            l1_ratio=params.l1_ratio,\n",
    "            target_column=schema.name,\n",
    "        )\n",
    "        return model_trainer_config\n"
   ]
  },
  {
   "cell_type": "markdown",
   "metadata": {},
   "source": [
    "## components"
   ]
  },
  {
   "cell_type": "code",
   "execution_count": 29,
   "metadata": {},
   "outputs": [],
   "source": [
    "import os\n",
    "import joblib\n",
    "import pandas as pd\n",
    "from mlproject import logger\n",
    "from sklearn.linear_model import ElasticNet"
   ]
  },
  {
   "cell_type": "code",
   "execution_count": 30,
   "metadata": {},
   "outputs": [],
   "source": [
    "class ModelTrainer:\n",
    "    def __init__(self , config: ModelTrainerConfig):\n",
    "        self.config = config\n",
    "        \n",
    "    def train(self):\n",
    "        train_data = pd.read_csv(self.config.train_data_path)\n",
    "        test_data = pd.read_csv(self.config.test_data_path)\n",
    "        \n",
    "        train_x = train_data.drop([self.config.target_column] , axis=1)\n",
    "        test_x = test_data.drop([self.config.target_column] , axis=1)\n",
    "        \n",
    "        train_y = train_data([self.config.target_column])\n",
    "        test_y = test_data([self.config.target_column])\n",
    "        \n",
    "        lr = ElasticNet(alpha=self.config.alpha , l1_ratio=self.config.l1_ratio , random_state=self.config.random_state)\n",
    "        \n",
    "        lr.fit(train_x , train_y)\n",
    "        \n",
    "        joblib.dump(lr , os.path.join(self.config.root_dir , self.config.model_name))"
   ]
  },
  {
   "cell_type": "markdown",
   "metadata": {},
   "source": [
    "## Pipeline"
   ]
  },
  {
   "cell_type": "code",
   "execution_count": 31,
   "metadata": {},
   "outputs": [
    {
     "name": "stdout",
     "output_type": "stream",
     "text": [
      "[2023-11-25 12:33:06,159] : INFO : common :  yaml file: config\\config.yaml loaded successfully]\n",
      "[2023-11-25 12:33:06,161] : INFO : common :  yaml file: params.yaml loaded successfully]\n",
      "[2023-11-25 12:33:06,164] : INFO : common :  yaml file: schema.yaml loaded successfully]\n",
      "[2023-11-25 12:33:06,167] : INFO : common :  created directory at: artifacts]\n"
     ]
    },
    {
     "ename": "BoxKeyError",
     "evalue": "\"'ConfigBox' object has no attribute 'target_column'\"",
     "output_type": "error",
     "traceback": [
      "\u001b[1;31m---------------------------------------------------------------------------\u001b[0m",
      "\u001b[1;31mKeyError\u001b[0m                                  Traceback (most recent call last)",
      "File \u001b[1;32mc:\\Users\\soulo\\anaconda3\\envs\\ML_projects\\lib\\site-packages\\box\\box.py:592\u001b[0m, in \u001b[0;36mbox.box.Box.__getitem__\u001b[1;34m()\u001b[0m\n",
      "\u001b[1;31mKeyError\u001b[0m: 'TARGET_COLUMN'",
      "\nThe above exception was the direct cause of the following exception:\n",
      "\u001b[1;31mBoxKeyError\u001b[0m                               Traceback (most recent call last)",
      "File \u001b[1;32mc:\\Users\\soulo\\anaconda3\\envs\\ML_projects\\lib\\site-packages\\box\\box.py:631\u001b[0m, in \u001b[0;36mbox.box.Box.__getattr__\u001b[1;34m()\u001b[0m\n",
      "File \u001b[1;32mc:\\Users\\soulo\\anaconda3\\envs\\ML_projects\\lib\\site-packages\\box\\box.py:619\u001b[0m, in \u001b[0;36mbox.box.Box.__getitem__\u001b[1;34m()\u001b[0m\n",
      "\u001b[1;31mBoxKeyError\u001b[0m: \"'TARGET_COLUMN'\"",
      "\nDuring handling of the above exception, another exception occurred:\n",
      "\u001b[1;31mAttributeError\u001b[0m                            Traceback (most recent call last)",
      "File \u001b[1;32mc:\\Users\\soulo\\anaconda3\\envs\\ML_projects\\lib\\site-packages\\box\\box.py:633\u001b[0m, in \u001b[0;36mbox.box.Box.__getattr__\u001b[1;34m()\u001b[0m\n",
      "\u001b[1;31mAttributeError\u001b[0m: 'ConfigBox' object has no attribute 'TARGET_COLUMN'",
      "\nThe above exception was the direct cause of the following exception:\n",
      "\u001b[1;31mBoxKeyError\u001b[0m                               Traceback (most recent call last)",
      "File \u001b[1;32mc:\\Users\\soulo\\anaconda3\\envs\\ML_projects\\lib\\site-packages\\box\\config_box.py:29\u001b[0m, in \u001b[0;36mbox.config_box.ConfigBox.__getattr__\u001b[1;34m()\u001b[0m\n",
      "File \u001b[1;32mc:\\Users\\soulo\\anaconda3\\envs\\ML_projects\\lib\\site-packages\\box\\box.py:647\u001b[0m, in \u001b[0;36mbox.box.Box.__getattr__\u001b[1;34m()\u001b[0m\n",
      "\u001b[1;31mBoxKeyError\u001b[0m: \"'ConfigBox' object has no attribute 'TARGET_COLUMN'\"",
      "\nDuring handling of the above exception, another exception occurred:\n",
      "\u001b[1;31mKeyError\u001b[0m                                  Traceback (most recent call last)",
      "File \u001b[1;32mc:\\Users\\soulo\\anaconda3\\envs\\ML_projects\\lib\\site-packages\\box\\box.py:592\u001b[0m, in \u001b[0;36mbox.box.Box.__getitem__\u001b[1;34m()\u001b[0m\n",
      "\u001b[1;31mKeyError\u001b[0m: 'target_column'",
      "\nThe above exception was the direct cause of the following exception:\n",
      "\u001b[1;31mBoxKeyError\u001b[0m                               Traceback (most recent call last)",
      "File \u001b[1;32mc:\\Users\\soulo\\anaconda3\\envs\\ML_projects\\lib\\site-packages\\box\\box.py:631\u001b[0m, in \u001b[0;36mbox.box.Box.__getattr__\u001b[1;34m()\u001b[0m\n",
      "File \u001b[1;32mc:\\Users\\soulo\\anaconda3\\envs\\ML_projects\\lib\\site-packages\\box\\box.py:619\u001b[0m, in \u001b[0;36mbox.box.Box.__getitem__\u001b[1;34m()\u001b[0m\n",
      "\u001b[1;31mBoxKeyError\u001b[0m: \"'target_column'\"",
      "\nDuring handling of the above exception, another exception occurred:\n",
      "\u001b[1;31mAttributeError\u001b[0m                            Traceback (most recent call last)",
      "File \u001b[1;32mc:\\Users\\soulo\\anaconda3\\envs\\ML_projects\\lib\\site-packages\\box\\box.py:633\u001b[0m, in \u001b[0;36mbox.box.Box.__getattr__\u001b[1;34m()\u001b[0m\n",
      "\u001b[1;31mAttributeError\u001b[0m: 'ConfigBox' object has no attribute 'target_column'",
      "\nThe above exception was the direct cause of the following exception:\n",
      "\u001b[1;31mBoxKeyError\u001b[0m                               Traceback (most recent call last)",
      "\u001b[1;32mc:\\Users\\soulo\\MACHINE_LEARNING_UNIVERSE\\PROJECT'S\\End-to-End-Machine-Leaning-Project-With-Mlow\\research\\04_data_training.ipynb Cell 13\u001b[0m line \u001b[0;36m7\n\u001b[0;32m      <a href='vscode-notebook-cell:/c%3A/Users/soulo/MACHINE_LEARNING_UNIVERSE/PROJECT%27S/End-to-End-Machine-Leaning-Project-With-Mlow/research/04_data_training.ipynb#X22sZmlsZQ%3D%3D?line=4'>5</a>\u001b[0m     model_trainer_config\u001b[39m.\u001b[39mtrain()\n\u001b[0;32m      <a href='vscode-notebook-cell:/c%3A/Users/soulo/MACHINE_LEARNING_UNIVERSE/PROJECT%27S/End-to-End-Machine-Leaning-Project-With-Mlow/research/04_data_training.ipynb#X22sZmlsZQ%3D%3D?line=5'>6</a>\u001b[0m \u001b[39mexcept\u001b[39;00m \u001b[39mException\u001b[39;00m \u001b[39mas\u001b[39;00m e :\n\u001b[1;32m----> <a href='vscode-notebook-cell:/c%3A/Users/soulo/MACHINE_LEARNING_UNIVERSE/PROJECT%27S/End-to-End-Machine-Leaning-Project-With-Mlow/research/04_data_training.ipynb#X22sZmlsZQ%3D%3D?line=6'>7</a>\u001b[0m     \u001b[39mraise\u001b[39;00m e \n",
      "\u001b[1;32mc:\\Users\\soulo\\MACHINE_LEARNING_UNIVERSE\\PROJECT'S\\End-to-End-Machine-Leaning-Project-With-Mlow\\research\\04_data_training.ipynb Cell 13\u001b[0m line \u001b[0;36m3\n\u001b[0;32m      <a href='vscode-notebook-cell:/c%3A/Users/soulo/MACHINE_LEARNING_UNIVERSE/PROJECT%27S/End-to-End-Machine-Leaning-Project-With-Mlow/research/04_data_training.ipynb#X22sZmlsZQ%3D%3D?line=0'>1</a>\u001b[0m \u001b[39mtry\u001b[39;00m:\n\u001b[0;32m      <a href='vscode-notebook-cell:/c%3A/Users/soulo/MACHINE_LEARNING_UNIVERSE/PROJECT%27S/End-to-End-Machine-Leaning-Project-With-Mlow/research/04_data_training.ipynb#X22sZmlsZQ%3D%3D?line=1'>2</a>\u001b[0m     config \u001b[39m=\u001b[39m ConfigurationManager()\n\u001b[1;32m----> <a href='vscode-notebook-cell:/c%3A/Users/soulo/MACHINE_LEARNING_UNIVERSE/PROJECT%27S/End-to-End-Machine-Leaning-Project-With-Mlow/research/04_data_training.ipynb#X22sZmlsZQ%3D%3D?line=2'>3</a>\u001b[0m     model_trainer_config \u001b[39m=\u001b[39m config\u001b[39m.\u001b[39;49mget_model_trainer_config()\n\u001b[0;32m      <a href='vscode-notebook-cell:/c%3A/Users/soulo/MACHINE_LEARNING_UNIVERSE/PROJECT%27S/End-to-End-Machine-Leaning-Project-With-Mlow/research/04_data_training.ipynb#X22sZmlsZQ%3D%3D?line=3'>4</a>\u001b[0m     model_trainer_config \u001b[39m=\u001b[39m ModelTrainer(config\u001b[39m=\u001b[39mmodel_trainer_config)\n\u001b[0;32m      <a href='vscode-notebook-cell:/c%3A/Users/soulo/MACHINE_LEARNING_UNIVERSE/PROJECT%27S/End-to-End-Machine-Leaning-Project-With-Mlow/research/04_data_training.ipynb#X22sZmlsZQ%3D%3D?line=4'>5</a>\u001b[0m     model_trainer_config\u001b[39m.\u001b[39mtrain()\n",
      "\u001b[1;32mc:\\Users\\soulo\\MACHINE_LEARNING_UNIVERSE\\PROJECT'S\\End-to-End-Machine-Leaning-Project-With-Mlow\\research\\04_data_training.ipynb Cell 13\u001b[0m line \u001b[0;36m1\n\u001b[0;32m     <a href='vscode-notebook-cell:/c%3A/Users/soulo/MACHINE_LEARNING_UNIVERSE/PROJECT%27S/End-to-End-Machine-Leaning-Project-With-Mlow/research/04_data_training.ipynb#X22sZmlsZQ%3D%3D?line=12'>13</a>\u001b[0m config \u001b[39m=\u001b[39m \u001b[39mself\u001b[39m\u001b[39m.\u001b[39mconfig\u001b[39m.\u001b[39mmodel_trainer\n\u001b[0;32m     <a href='vscode-notebook-cell:/c%3A/Users/soulo/MACHINE_LEARNING_UNIVERSE/PROJECT%27S/End-to-End-Machine-Leaning-Project-With-Mlow/research/04_data_training.ipynb#X22sZmlsZQ%3D%3D?line=13'>14</a>\u001b[0m params \u001b[39m=\u001b[39m \u001b[39mself\u001b[39m\u001b[39m.\u001b[39mparams\u001b[39m.\u001b[39mElasticNet\n\u001b[1;32m---> <a href='vscode-notebook-cell:/c%3A/Users/soulo/MACHINE_LEARNING_UNIVERSE/PROJECT%27S/End-to-End-Machine-Leaning-Project-With-Mlow/research/04_data_training.ipynb#X22sZmlsZQ%3D%3D?line=14'>15</a>\u001b[0m schema \u001b[39m=\u001b[39m \u001b[39mself\u001b[39;49m\u001b[39m.\u001b[39;49mconfig\u001b[39m.\u001b[39;49mTARGET_COLUMN  \n\u001b[0;32m     <a href='vscode-notebook-cell:/c%3A/Users/soulo/MACHINE_LEARNING_UNIVERSE/PROJECT%27S/End-to-End-Machine-Leaning-Project-With-Mlow/research/04_data_training.ipynb#X22sZmlsZQ%3D%3D?line=15'>16</a>\u001b[0m create_directories([config\u001b[39m.\u001b[39mroot_dir])\n\u001b[0;32m     <a href='vscode-notebook-cell:/c%3A/Users/soulo/MACHINE_LEARNING_UNIVERSE/PROJECT%27S/End-to-End-Machine-Leaning-Project-With-Mlow/research/04_data_training.ipynb#X22sZmlsZQ%3D%3D?line=17'>18</a>\u001b[0m model_trainer_config\u001b[39m=\u001b[39mModelTrainerConfig(\n\u001b[0;32m     <a href='vscode-notebook-cell:/c%3A/Users/soulo/MACHINE_LEARNING_UNIVERSE/PROJECT%27S/End-to-End-Machine-Leaning-Project-With-Mlow/research/04_data_training.ipynb#X22sZmlsZQ%3D%3D?line=18'>19</a>\u001b[0m     \n\u001b[0;32m     <a href='vscode-notebook-cell:/c%3A/Users/soulo/MACHINE_LEARNING_UNIVERSE/PROJECT%27S/End-to-End-Machine-Leaning-Project-With-Mlow/research/04_data_training.ipynb#X22sZmlsZQ%3D%3D?line=19'>20</a>\u001b[0m     root_dir\u001b[39m=\u001b[39m config\u001b[39m.\u001b[39mroot_dir,\n\u001b[1;32m   (...)\u001b[0m\n\u001b[0;32m     <a href='vscode-notebook-cell:/c%3A/Users/soulo/MACHINE_LEARNING_UNIVERSE/PROJECT%27S/End-to-End-Machine-Leaning-Project-With-Mlow/research/04_data_training.ipynb#X22sZmlsZQ%3D%3D?line=25'>26</a>\u001b[0m     target_column\u001b[39m=\u001b[39mschema\u001b[39m.\u001b[39mname,\n\u001b[0;32m     <a href='vscode-notebook-cell:/c%3A/Users/soulo/MACHINE_LEARNING_UNIVERSE/PROJECT%27S/End-to-End-Machine-Leaning-Project-With-Mlow/research/04_data_training.ipynb#X22sZmlsZQ%3D%3D?line=26'>27</a>\u001b[0m )\n",
      "File \u001b[1;32mc:\\Users\\soulo\\anaconda3\\envs\\ML_projects\\lib\\site-packages\\box\\config_box.py:31\u001b[0m, in \u001b[0;36mbox.config_box.ConfigBox.__getattr__\u001b[1;34m()\u001b[0m\n",
      "File \u001b[1;32mc:\\Users\\soulo\\anaconda3\\envs\\ML_projects\\lib\\site-packages\\box\\box.py:647\u001b[0m, in \u001b[0;36mbox.box.Box.__getattr__\u001b[1;34m()\u001b[0m\n",
      "\u001b[1;31mBoxKeyError\u001b[0m: \"'ConfigBox' object has no attribute 'target_column'\""
     ]
    }
   ],
   "source": [
    "try:\n",
    "    config = ConfigurationManager()\n",
    "    model_trainer_config = config.get_model_trainer_config()\n",
    "    model_trainer_config = ModelTrainer(config=model_trainer_config)\n",
    "    model_trainer_config.train()\n",
    "except Exception as e :\n",
    "    raise e "
   ]
  }
 ],
 "metadata": {
  "kernelspec": {
   "display_name": "ML_projects",
   "language": "python",
   "name": "python3"
  },
  "language_info": {
   "codemirror_mode": {
    "name": "ipython",
    "version": 3
   },
   "file_extension": ".py",
   "mimetype": "text/x-python",
   "name": "python",
   "nbconvert_exporter": "python",
   "pygments_lexer": "ipython3",
   "version": "3.10.0"
  }
 },
 "nbformat": 4,
 "nbformat_minor": 2
}
